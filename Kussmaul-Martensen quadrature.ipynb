{
 "metadata": {
  "name": "Kussmaul-Martensen quadrature"
 },
 "nbformat": 3,
 "nbformat_minor": 0,
 "worksheets": [
  {
   "cells": [
    {
     "cell_type": "markdown",
     "metadata": {},
     "source": [
      "# Kussmaul-Martensen quadrature (also often called \"Kress quadrature\")"
     ]
    },
    {
     "cell_type": "code",
     "collapsed": false,
     "input": [
      "%pylab inline"
     ],
     "language": "python",
     "metadata": {},
     "outputs": []
    },
    {
     "cell_type": "code",
     "collapsed": false,
     "input": [
      "t = np.linspace(0, 2*np.pi, 300,endpoint=False)"
     ],
     "language": "python",
     "metadata": {},
     "outputs": []
    },
    {
     "cell_type": "code",
     "collapsed": false,
     "input": [
      "uncircleness = 1\n",
      "\n",
      "path = np.array([\n",
      "    np.cos(t) + uncircleness*0.2*np.sin(3*t),\n",
      "    np.sin(t) + uncircleness*0.1*np.sin(3*t)\n",
      "    ])\n",
      "\n",
      "tgt_index = len(t)//2\n",
      "tgt_t = t[tgt_index]\n",
      "tgt = path[:, tgt_index]\n",
      "\n",
      "gca().set_aspect(\"equal\")\n",
      "plot(path[0], path[1])\n",
      "plot(tgt[0], tgt[1], \"o\")"
     ],
     "language": "python",
     "metadata": {},
     "outputs": []
    },
    {
     "cell_type": "code",
     "collapsed": false,
     "input": [
      "import scipy.fftpack as fft\n",
      "\n",
      "dpath_dt = np.array([\n",
      "    fft.diff(path[0]),\n",
      "    fft.diff(path[1]),\n",
      "    ])\n",
      "\n",
      "dpdt_squared = dpath_dt[0]**2 + dpath_dt[1]**2\n",
      "plot(dpdt_squared)"
     ],
     "language": "python",
     "metadata": {},
     "outputs": []
    },
    {
     "cell_type": "code",
     "collapsed": false,
     "input": [
      "normals = np.array([\n",
      "    dpath_dt[1],\n",
      "    -dpath_dt[0]\n",
      "    ]) / np.sqrt(dpdt_squared)\n",
      "\n",
      "plot(path[0], path[1])\n",
      "quiver(path[0], path[1], normals[0], normals[1])"
     ],
     "language": "python",
     "metadata": {},
     "outputs": []
    },
    {
     "cell_type": "code",
     "collapsed": false,
     "input": [
      "dist_vec = tgt[:, newaxis] - path\n",
      "\n",
      "dist = np.sqrt(np.sum(dist_vec**2, axis=0))\n",
      "\n",
      "plot(dist)"
     ],
     "language": "python",
     "metadata": {},
     "outputs": []
    },
    {
     "cell_type": "heading",
     "level": 2,
     "metadata": {},
     "source": [
      "Single-layer potential"
     ]
    },
    {
     "cell_type": "code",
     "collapsed": false,
     "input": [
      "slp_integrand = log(1/dist)\n",
      "plot(slp_integrand)"
     ],
     "language": "python",
     "metadata": {},
     "outputs": []
    },
    {
     "cell_type": "markdown",
     "metadata": {},
     "source": [
      "Even if this is integrable--Gaussian quadrature will do a terrible job. **Why?**"
     ]
    },
    {
     "cell_type": "code",
     "collapsed": false,
     "input": [
      "near_sing_slice = slice(tgt_index-20, tgt_index+20)\n",
      "\n",
      "log_sin_squared = -0.5*log(4*sin((tgt_t - t)/2)**2)\n",
      "plot(log_sin_squared[near_sing_slice])\n",
      "plot(slp_integrand[near_sing_slice])"
     ],
     "language": "python",
     "metadata": {},
     "outputs": []
    },
    {
     "cell_type": "code",
     "collapsed": false,
     "input": [
      "slp_subtracted = slp_integrand - log_sin_squared\n",
      "plot(slp_subtracted[near_sing_slice])"
     ],
     "language": "python",
     "metadata": {},
     "outputs": []
    },
    {
     "cell_type": "code",
     "collapsed": false,
     "input": [
      "plot(slp_subtracted)"
     ],
     "language": "python",
     "metadata": {},
     "outputs": []
    },
    {
     "cell_type": "markdown",
     "metadata": {},
     "source": [
      "**How does this help?**"
     ]
    },
    {
     "cell_type": "heading",
     "level": 3,
     "metadata": {},
     "source": [
      "Double-layer potential"
     ]
    },
    {
     "cell_type": "code",
     "collapsed": false,
     "input": [
      "grad_slp = dist_vec/dist**2\n",
      "\n",
      "dlp_integrand = sum(grad_slp * normals, axis=0)\n",
      "plot(dlp_integrand)"
     ],
     "language": "python",
     "metadata": {},
     "outputs": []
    },
    {
     "cell_type": "heading",
     "level": 3,
     "metadata": {},
     "source": [
      "S'"
     ]
    },
    {
     "cell_type": "code",
     "collapsed": false,
     "input": [
      "sp_integrand = sum(grad_slp * normals[:, tgt_index, newaxis], axis=0)\n",
      "plot(sp_integrand)"
     ],
     "language": "python",
     "metadata": {},
     "outputs": []
    },
    {
     "cell_type": "markdown",
     "metadata": {},
     "source": [
      "## Questions\n",
      "\n",
      "* How would you apply this for **Helmholtz**?\n",
      "* Name aspects that make this rule slightly **impractical**\n",
      "* How would this apply to D'?"
     ]
    }
   ],
   "metadata": {}
  }
 ]
}